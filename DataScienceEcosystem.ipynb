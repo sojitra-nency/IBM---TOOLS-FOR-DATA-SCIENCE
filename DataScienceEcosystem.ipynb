{
 "cells": [
  {
   "attachments": {},
   "cell_type": "markdown",
   "metadata": {},
   "source": [
    "<center>\n",
    "    <img src=\"https://cf-courses-data.s3.us.cloud-object-storage.appdomain.cloud/IBMDeveloperSkillsNetwork-DS0105EN-SkillsNetwork/labs/Module2/images/SN_web_lightmode.png\" width=\"300\" alt=\"cognitiveclass.ai logo\">\n",
    "</center>\n"
   ]
  },
  {
   "attachments": {},
   "cell_type": "markdown",
   "metadata": {},
   "source": [
    "#### Add your code below following the instructions given in the course\n"
   ]
  },
  {
   "attachments": {},
   "cell_type": "markdown",
   "metadata": {},
   "source": [
    "# Data Science Tools and Ecosystem"
   ]
  },
  {
   "attachments": {},
   "cell_type": "markdown",
   "metadata": {},
   "source": [
    "### In this notebook, Data Science Tools and Ecosystem are summarized."
   ]
  },
  {
   "attachments": {},
   "cell_type": "markdown",
   "metadata": {},
   "source": [
    "Some of the popular languages that Data Scientists use are:\n",
    "\n",
    "1. Python\n",
    "2. R\n",
    "3. Julia"
   ]
  },
  {
   "attachments": {},
   "cell_type": "markdown",
   "metadata": {},
   "source": [
    "Some of the commonly used libraries used by Data Scientists include:\n",
    "\n",
    "1. NumPy\n",
    "2. Pandas\n",
    "3. scikit-learn\n"
   ]
  },
  {
   "attachments": {},
   "cell_type": "markdown",
   "metadata": {},
   "source": [
    "| Tool                | Description                                                     | Website                                      |\n",
    "|---------------------|-----------------------------------------------------------------|----------------------------------------------|\n",
    "| Python              | General-purpose programming language with rich data science libraries | [python.org](https://www.python.org/)       |\n",
    "| R                   | Statistical programming language with extensive data analysis capabilities | [r-project.org](https://www.r-project.org/) |\n",
    "| Jupyter Notebook    | Interactive coding environment for data exploration and analysis  | [jupyter.org](https://jupyter.org/)         |\n",
    "| Anaconda            | Distribution of Python and R, bundled with popular data science packages | [anaconda.com](https://www.anaconda.com/)   |\n",
    "| TensorFlow          | Open-source machine learning framework                          | [tensorflow.org](https://www.tensorflow.org/) |\n",
    "| PyTorch             | Deep learning framework for Python                               | [pytorch.org](https://pytorch.org/)         |\n",
    "| scikit-learn        | Machine learning library for Python                             | [scikit-learn.org](https://scikit-learn.org/) |\n",
    "| Pandas              | Data manipulation and analysis library for Python                | [pandas.pydata.org](https://pandas.pydata.org/) |\n",
    "| NumPy               | Numerical computing library for Python                           | [numpy.org](https://numpy.org/)             |\n",
    "| Matplotlib          | Data visualization library for Python                            | [matplotlib.org](https://matplotlib.org/)  \n"
   ]
  },
  {
   "attachments": {},
   "cell_type": "markdown",
   "metadata": {
    "tags": []
   },
   "source": [
    "## Arithmetic Expression Examples\n",
    "\n",
    "Arithmetic expressions involve mathematical operations like addition, subtraction, multiplication, and division. They are commonly used in programming and data analysis tasks. Here are some examples of arithmetic expressions:\n",
    "\n",
    "1. Addition: The sum of two numbers can be calculated using the `+` operator. For example, `3 + 5` equals `8`.\n",
    "\n",
    "2. Subtraction: The difference between two numbers can be calculated using the `-` operator. For example, `10 - 7` equals `3`.\n",
    "\n",
    "3. Multiplication: The product of two numbers can be calculated using the `*` operator. For example, `4 * 6` equals `24`.\n",
    "\n",
    "4. Division: The quotient of two numbers can be calculated using the `/` operator. For example, `12 / 3` equals `4`.\n",
    "\n",
    "5. Modulo: The remainder of division can be calculated using the `%` operator. For example, `14 % 5` equals `4`, as 14 divided by 5 leaves a remainder of 4.\n",
    "\n",
    "6. Exponentiation: The result of raising a number to a power can be calculated using the `**` operator. For example, `2 ** 3` equals `8`, as 2 raised to the power of 3 is 8.\n",
    "\n",
    "Arithmetic expressions can also include parentheses to specify the order of operations. For example, `(3 + 4) * 2` equals `14`, as the addition inside the parentheses is performed first, followed by the multiplication.\n",
    "\n",
    "These examples demonstrate the basic arithmetic operations that can be performed using mathematical expressions. They are building blocks for more complex calculations in various fields, including data science and programming.\n"
   ]
  },
  {
   "cell_type": "code",
   "execution_count": 2,
   "metadata": {
    "tags": []
   },
   "outputs": [
    {
     "data": {
      "text/plain": [
       "17"
      ]
     },
     "execution_count": 2,
     "metadata": {},
     "output_type": "execute_result"
    }
   ],
   "source": [
    "# This is a simple arithmetic expression to multiply then add integers\n",
    "result = (3 * 4) + 5\n",
    "result\n"
   ]
  },
  {
   "cell_type": "code",
   "execution_count": 3,
   "metadata": {
    "tags": []
   },
   "outputs": [
    {
     "data": {
      "text/plain": [
       "3.3333333333333335"
      ]
     },
     "execution_count": 3,
     "metadata": {},
     "output_type": "execute_result"
    }
   ],
   "source": [
    "# This will convert 200 minutes to hours by dividing by 60\n",
    "minutes = 200\n",
    "hours = minutes / 60\n",
    "hours\n"
   ]
  },
  {
   "attachments": {},
   "cell_type": "markdown",
   "metadata": {},
   "source": [
    "**Objectives:**\n",
    "\n",
    "- List popular languages for Data Science.\n",
    "- Discuss commonly used libraries in Data Science.\n",
    "- Explore Data Science tools and ecosystems.\n"
   ]
  },
  {
   "attachments": {},
   "cell_type": "markdown",
   "metadata": {
    "tags": []
   },
   "source": [
    "## Author\n",
    "\n",
    "SOJITRA NENCY\n"
   ]
  }
 ],
 "metadata": {
  "kernelspec": {
   "display_name": "Python",
   "language": "python",
   "name": "conda-env-python-py"
  },
  "language_info": {
   "codemirror_mode": {
    "name": "ipython",
    "version": 3
   },
   "file_extension": ".py",
   "mimetype": "text/x-python",
   "name": "python",
   "nbconvert_exporter": "python",
   "pygments_lexer": "ipython3",
   "version": "3.7.12"
  }
 },
 "nbformat": 4,
 "nbformat_minor": 4
}
